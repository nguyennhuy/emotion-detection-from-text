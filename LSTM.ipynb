{
 "cells": [
  {
   "cell_type": "code",
   "execution_count": 4,
   "metadata": {
    "scrolled": true
   },
   "outputs": [
    {
     "name": "stdout",
     "output_type": "stream",
     "text": [
      "Thu Feb  6 17:40:28 2020       \r\n",
      "+-----------------------------------------------------------------------------+\r\n",
      "| NVIDIA-SMI 418.87.00    Driver Version: 418.87.00    CUDA Version: 10.1     |\r\n",
      "|-------------------------------+----------------------+----------------------+\r\n",
      "| GPU  Name        Persistence-M| Bus-Id        Disp.A | Volatile Uncorr. ECC |\r\n",
      "| Fan  Temp  Perf  Pwr:Usage/Cap|         Memory-Usage | GPU-Util  Compute M. |\r\n",
      "|===============================+======================+======================|\r\n",
      "|   0  GeForce GTX 108...  On   | 00000000:03:00.0 Off |                  N/A |\r\n",
      "| 55%   63C    P2   191W / 200W |  11039MiB / 11178MiB |     96%      Default |\r\n",
      "+-------------------------------+----------------------+----------------------+\r\n",
      "|   1  GeForce GTX 108...  On   | 00000000:04:00.0  On |                  N/A |\r\n",
      "| 51%   61C    P2   185W / 200W |   7599MiB / 11175MiB |      1%      Default |\r\n",
      "+-------------------------------+----------------------+----------------------+\r\n",
      "                                                                               \r\n",
      "+-----------------------------------------------------------------------------+\r\n",
      "| Processes:                                                       GPU Memory |\r\n",
      "|  GPU       PID   Type   Process name                             Usage      |\r\n",
      "|=============================================================================|\r\n",
      "|    0     30609      C   python                                     11027MiB |\r\n",
      "|    1      1333      G   /usr/lib/xorg/Xorg                           194MiB |\r\n",
      "|    1      2237      G   budgie-wm                                     89MiB |\r\n",
      "|    1     11132      G   ...quest-channel-token=7027549796372860842    50MiB |\r\n",
      "|    1     11511      G   ...uest-channel-token=17388351742791097707    43MiB |\r\n",
      "|    1     30609      C   python                                      7209MiB |\r\n",
      "+-----------------------------------------------------------------------------+\r\n"
     ]
    }
   ],
   "source": [
    "!nvidia-smi"
   ]
  },
  {
   "cell_type": "code",
   "execution_count": 2,
   "metadata": {},
   "outputs": [],
   "source": [
    "import os\n",
    "os.environ[\"CUDA_DEVICE_ORDER\"]=\"PCI_BUS_ID\";\n",
    " \n",
    "# The GPU id to use, usually either \"0\" or \"1\";\n",
    "os.environ[\"CUDA_VISIBLE_DEVICES\"]=\"1\";"
   ]
  },
  {
   "cell_type": "code",
   "execution_count": 5,
   "metadata": {
    "scrolled": true
   },
   "outputs": [],
   "source": [
    "# Compatible with tensorflow backend\n",
    "import tensorflow as tf\n",
    "import keras.backend as K\n",
    "\n",
    "import pandas as pd\n",
    "import numpy as np\n",
    "import matplotlib.pyplot as plt\n",
    "import seaborn as sns\n",
    "import pickle \n",
    "\n",
    "from matplotlib.pyplot import figure\n",
    "from sklearn.model_selection import train_test_split\n",
    "from sklearn.preprocessing import LabelEncoder\n",
    "from sklearn.metrics import f1_score\n",
    "\n",
    "from tensorflow.keras.models import *\n",
    "from tensorflow.keras.layers import *\n",
    "from tensorflow.keras.optimizers import RMSprop\n",
    "from tensorflow.keras.preprocessing.text import Tokenizer\n",
    "from tensorflow.keras.preprocessing import sequence\n",
    "from tensorflow.keras.utils import to_categorical\n",
    "from tensorflow.keras.callbacks import *"
   ]
  },
  {
   "cell_type": "code",
   "execution_count": 6,
   "metadata": {},
   "outputs": [
    {
     "data": {
      "text/plain": [
       "[[2, 3, 4], [1, 2, 3]]"
      ]
     },
     "execution_count": 6,
     "metadata": {},
     "output_type": "execute_result"
    }
   ],
   "source": [
    "x = list(reversed( [[1,2,3],[2,3,4]]))\n",
    "x"
   ]
  },
  {
   "cell_type": "code",
   "execution_count": 4,
   "metadata": {
    "scrolled": false
   },
   "outputs": [
    {
     "ename": "AttributeError",
     "evalue": "module 'tensorflow' has no attribute 'ConfigProto'",
     "output_type": "error",
     "traceback": [
      "\u001b[0;31m---------------------------------------------------------------------------\u001b[0m",
      "\u001b[0;31mAttributeError\u001b[0m                            Traceback (most recent call last)",
      "\u001b[0;32m<ipython-input-4-4fede7d3b463>\u001b[0m in \u001b[0;36m<module>\u001b[0;34m\u001b[0m\n\u001b[0;32m----> 1\u001b[0;31m \u001b[0mtf_config\u001b[0m \u001b[0;34m=\u001b[0m \u001b[0mtf\u001b[0m\u001b[0;34m.\u001b[0m\u001b[0mConfigProto\u001b[0m\u001b[0;34m(\u001b[0m\u001b[0;34m)\u001b[0m\u001b[0;34m\u001b[0m\u001b[0;34m\u001b[0m\u001b[0m\n\u001b[0m\u001b[1;32m      2\u001b[0m \u001b[0mtf_config\u001b[0m\u001b[0;34m.\u001b[0m\u001b[0mgpu_options\u001b[0m\u001b[0;34m.\u001b[0m\u001b[0mallow_growth\u001b[0m \u001b[0;34m=\u001b[0m \u001b[0;32mTrue\u001b[0m\u001b[0;34m\u001b[0m\u001b[0;34m\u001b[0m\u001b[0m\n\u001b[1;32m      3\u001b[0m \u001b[0mtf_config\u001b[0m\u001b[0;34m.\u001b[0m\u001b[0mallow_soft_placement\u001b[0m \u001b[0;34m=\u001b[0m \u001b[0;32mTrue\u001b[0m\u001b[0;34m\u001b[0m\u001b[0;34m\u001b[0m\u001b[0m\n\u001b[1;32m      4\u001b[0m \u001b[0msession\u001b[0m \u001b[0;34m=\u001b[0m \u001b[0mtf\u001b[0m\u001b[0;34m.\u001b[0m\u001b[0mSession\u001b[0m\u001b[0;34m(\u001b[0m\u001b[0mconfig\u001b[0m\u001b[0;34m=\u001b[0m\u001b[0mtf_config\u001b[0m\u001b[0;34m)\u001b[0m\u001b[0;34m\u001b[0m\u001b[0;34m\u001b[0m\u001b[0m\n\u001b[1;32m      5\u001b[0m \u001b[0mK\u001b[0m\u001b[0;34m.\u001b[0m\u001b[0mset_session\u001b[0m\u001b[0;34m(\u001b[0m\u001b[0msession\u001b[0m\u001b[0;34m)\u001b[0m\u001b[0;34m\u001b[0m\u001b[0;34m\u001b[0m\u001b[0m\n",
      "\u001b[0;31mAttributeError\u001b[0m: module 'tensorflow' has no attribute 'ConfigProto'"
     ]
    }
   ],
   "source": [
    "tf_config = tf.ConfigProto()\n",
    "tf_config.gpu_options.allow_growth = True\n",
    "tf_config.allow_soft_placement = True\n",
    "session = tf.Session(config=tf_config)\n",
    "K.set_session(session)"
   ]
  },
  {
   "cell_type": "code",
   "execution_count": 5,
   "metadata": {},
   "outputs": [],
   "source": [
    "import pandas as pd\n",
    "# df = pd.read_csv ('/data/Data/yntn/data_labeled_10M.csv')\n",
    "df = pd.read_csv ('../train.csv')"
   ]
  },
  {
   "cell_type": "code",
   "execution_count": 26,
   "metadata": {},
   "outputs": [],
   "source": [
    "# label_tag = (list(set (df.label)))\n",
    "# label_tag.sort()\n",
    "# cutdata = []\n",
    "# for i in range (len(label_tag)):\n",
    "#     df_go = df[df.label == label_tag[i]].head(350000)\n",
    "#     cutdata.append(df_go)"
   ]
  },
  {
   "cell_type": "code",
   "execution_count": 27,
   "metadata": {},
   "outputs": [],
   "source": [
    "# df = pd.concat(cutdata, axis = 0)"
   ]
  },
  {
   "cell_type": "code",
   "execution_count": 6,
   "metadata": {
    "scrolled": true
   },
   "outputs": [
    {
     "data": {
      "text/plain": [
       "Text(0.5, 0, 'Label')"
      ]
     },
     "execution_count": 6,
     "metadata": {},
     "output_type": "execute_result"
    },
    {
     "data": {
      "image/png": "[encoded data removed]",
      "text/plain": [
       "<Figure size 1200x640 with 1 Axes>"
      ]
     },
     "metadata": {},
     "output_type": "display_data"
    }
   ],
   "source": [
    "figure(num=None, figsize=(15, 8), dpi=80, facecolor='w', edgecolor='k')\n",
    "plt.xticks(rotation=90)\n",
    "sns.countplot(df.target)\n",
    "plt.xlabel('Label')"
   ]
  },
  {
   "cell_type": "code",
   "execution_count": 7,
   "metadata": {},
   "outputs": [],
   "source": [
    "X = df.status\n",
    "Y = df.target\n",
    "le = LabelEncoder()\n",
    "Y = le.fit_transform(Y)"
   ]
  },
  {
   "cell_type": "code",
   "execution_count": 8,
   "metadata": {},
   "outputs": [],
   "source": [
    "onehot_Y = []\n",
    "\n",
    "for i in range(len(Y)):\n",
    "    tmp = []\n",
    "    tmp = [ 0 for i in range(0, 35)] # set all 0\n",
    "    tmp[Y[i]] = 1 \n",
    "    onehot_Y.append(tmp)"
   ]
  },
  {
   "cell_type": "code",
   "execution_count": 9,
   "metadata": {},
   "outputs": [],
   "source": [
    "Y = np.array(onehot_Y)"
   ]
  },
  {
   "cell_type": "code",
   "execution_count": 10,
   "metadata": {},
   "outputs": [],
   "source": [
    "X_train, X_test, Y_train, Y_test = train_test_split(X,Y,test_size = 0.2, random_state = 42)\n",
    "\n",
    "# X_train, X_test, Y_train, Y_test = train_test_split(X, Y, test_size=0.2, random_state=11)\n",
    "\n",
    "# X_train, X_val, Y_train, Y_val = train_test_split(X_train, Y_train, test_size=0.2, random_state=11)"
   ]
  },
  {
   "cell_type": "code",
   "execution_count": 11,
   "metadata": {},
   "outputs": [],
   "source": [
    "max_len = 30\n",
    "max_words = 88860\n",
    "tok = Tokenizer(num_words = max_words)\n",
    "X_train = [str(s) for s in X_train]\n",
    "tok.fit_on_texts(X_train)\n",
    "\n",
    "max_words = len(tok.index_word)+1\n",
    "\n",
    "sequences = tok.texts_to_sequences(X_train)\n",
    "sequences_matrix = sequence.pad_sequences(sequences,maxlen=max_len)"
   ]
  },
  {
   "cell_type": "code",
   "execution_count": 12,
   "metadata": {},
   "outputs": [],
   "source": [
    "pickle.dump(tok, open('tokenize.pkl','wb'))"
   ]
  },
  {
   "cell_type": "code",
   "execution_count": 13,
   "metadata": {
    "scrolled": true
   },
   "outputs": [],
   "source": [
    "word_dict = pickle.load (open(\"../word_embedding_vec.pkl\",'rb'))"
   ]
  },
  {
   "cell_type": "code",
   "execution_count": 14,
   "metadata": {},
   "outputs": [],
   "source": [
    "w = np.random.normal(0, 1, (max_words, 300))"
   ]
  },
  {
   "cell_type": "code",
   "execution_count": 15,
   "metadata": {
    "scrolled": true
   },
   "outputs": [],
   "source": [
    "for i in range (1, max_words):\n",
    "    if (tok.index_word[i] in word_dict):\n",
    "        w[i] = word_dict[tok.index_word[i]]"
   ]
  },
  {
   "cell_type": "code",
   "execution_count": 16,
   "metadata": {},
   "outputs": [],
   "source": [
    "def RNN():\n",
    "    inputs = Input(name = 'inputs', shape = [max_len])\n",
    "    layer = Embedding(max_words, 300, input_length = max_len, weights = [w])(tf.reverse(inputs,[0]))\n",
    "    layer = LSTM(128, return_sequences= True)(layer)\n",
    "    layer = LSTM(128, return_sequences= True)(layer)\n",
    "    layer = LSTM(128, return_sequences= True )(layer)\n",
    "    layer = GlobalMaxPooling1D()(layer)\n",
    "    layer = Dense(256,name = 'FC1')(layer)\n",
    "    layer = Activation('relu')(layer)\n",
    "    layer = Dropout(0.5)(layer)\n",
    "    layer = Dense(35,name = 'out_layer')(layer)\n",
    "    layer = Activation('softmax')(layer)\n",
    "    model = Model(inputs = inputs,outputs = layer)\n",
    "    return model\n",
    "\n",
    "# def RNN():\n",
    "#     inputs = Input(name = 'inputs', shape =[max_len])\n",
    "#     layer = Embedding(max_words, 300, input_length = max_len, weights = [w])(inputs)\n",
    "#     layer = Bidirectional(LSTM(128, return_sequences = True))(layer)\n",
    "#     layer = Bidirectional(LSTM(128))(layer)\n",
    "#     layer = Dense(256, name = \"FC1\")(layer)\n",
    "#     layer = Activation('relu')(layer)\n",
    "#     layer = Dropout(0.5)(layer)\n",
    "#     layer = Dense(35, name = 'out_layer')(layer)\n",
    "#     layer = Activation('softmax')(layer)\n",
    "    \n",
    "#     model = Model (inputs = inputs, outputs = layer)\n",
    "#     return model\n",
    "    "
   ]
  },
  {
   "cell_type": "code",
   "execution_count": 7,
   "metadata": {},
   "outputs": [
    {
     "data": {
      "text/plain": [
       "<tf.Tensor: shape=(3, 3), dtype=int32, numpy=\n",
       "array([[7, 8, 9],\n",
       "       [4, 5, 6],\n",
       "       [1, 2, 3]], dtype=int32)>"
      ]
     },
     "execution_count": 7,
     "metadata": {},
     "output_type": "execute_result"
    }
   ],
   "source": [
    "arr = [[1,2,3],[4,5,6],[7,8,9,]]\n",
    "tf.reverse(arr, [0])"
   ]
  },
  {
   "cell_type": "code",
   "execution_count": 17,
   "metadata": {
    "scrolled": false
   },
   "outputs": [
    {
     "name": "stdout",
     "output_type": "stream",
     "text": [
      "Model: \"model\"\n",
      "_________________________________________________________________\n",
      "Layer (type)                 Output Shape              Param #   \n",
      "=================================================================\n",
      "inputs (InputLayer)          [(None, 30)]              0         \n",
      "_________________________________________________________________\n",
      "tf_op_layer_ReverseV2 (Tenso [(None, 30)]              0         \n",
      "_________________________________________________________________\n",
      "embedding (Embedding)        (None, 30, 300)           35031900  \n",
      "_________________________________________________________________\n",
      "lstm (LSTM)                  (None, 30, 128)           219648    \n",
      "_________________________________________________________________\n",
      "lstm_1 (LSTM)                (None, 30, 128)           131584    \n",
      "_________________________________________________________________\n",
      "lstm_2 (LSTM)                (None, 30, 128)           131584    \n",
      "_________________________________________________________________\n",
      "global_max_pooling1d (Global (None, 128)               0         \n",
      "_________________________________________________________________\n",
      "FC1 (Dense)                  (None, 256)               33024     \n",
      "_________________________________________________________________\n",
      "activation (Activation)      (None, 256)               0         \n",
      "_________________________________________________________________\n",
      "dropout (Dropout)            (None, 256)               0         \n",
      "_________________________________________________________________\n",
      "out_layer (Dense)            (None, 35)                8995      \n",
      "_________________________________________________________________\n",
      "activation_1 (Activation)    (None, 35)                0         \n",
      "=================================================================\n",
      "Total params: 35,556,735\n",
      "Trainable params: 35,556,735\n",
      "Non-trainable params: 0\n",
      "_________________________________________________________________\n"
     ]
    }
   ],
   "source": [
    "# from tensorflow.python.compiler.tensorrt import trt_convert as trt\n",
    "\n",
    "model  = RNN()\n",
    "model.summary()"
   ]
  },
  {
   "cell_type": "code",
   "execution_count": 18,
   "metadata": {},
   "outputs": [],
   "source": [
    "\n",
    "# def focal_loss(gamma=10, alpha=.25):\n",
    "def focal_loss(gamma=10, alpha=.25):\n",
    "    def focal_loss_fixed(y_true, y_pred):\n",
    "        pt_1 = tf.where(tf.equal(y_true, 1), y_pred, tf.ones_like(y_pred))\n",
    "        pt_0 = tf.where(tf.equal(y_true, 0), y_pred, tf.zeros_like(y_pred))\n",
    "        return -K.mean(alpha * K.pow(1. - pt_1, gamma) * K.log(pt_1)) - K.mean((1 - alpha) * K.pow(pt_0, gamma) * K.log(1. - pt_0))\n",
    "    return focal_loss_fixed"
   ]
  },
  {
   "cell_type": "code",
   "execution_count": 19,
   "metadata": {},
   "outputs": [],
   "source": [
    "model.compile(loss = 'categorical_crossentropy', optimizer = RMSprop(),metrics = ['accuracy'])\n",
    "\n",
    "# focal loss\n",
    "# model.compile(loss=[focal_loss(alpha=.25, gamma=10)], metrics=[\"accuracy\"], optimizer='adam')"
   ]
  },
  {
   "cell_type": "code",
   "execution_count": 20,
   "metadata": {},
   "outputs": [],
   "source": [
    "weight_file = \"model_LSTM_w17_Test.hdf5\"\n",
    "callbacks = [\n",
    "    EarlyStopping(monitor = 'val_loss', patience = 10, verbose = 1),\n",
    "    ModelCheckpoint(weight_file, monitor = 'val_loss', verbose = 1, save_best_only = True)\n",
    "]"
   ]
  },
  {
   "cell_type": "code",
   "execution_count": 22,
   "metadata": {
    "scrolled": false
   },
   "outputs": [
    {
     "name": "stdout",
     "output_type": "stream",
     "text": [
      "Train on 2678984 samples, validate on 669747 samples\n",
      "Epoch 1/10\n",
      "2678784/2678984 [============================>.] - ETA: 0s - loss: 3.4705 - accuracy: 0.0358\n",
      "Epoch 00001: val_loss improved from inf to 3.46855, saving model to model_LSTM_w17_Test.hdf5\n",
      "2678984/2678984 [==============================] - 437s 163us/sample - loss: 3.4705 - accuracy: 0.0358 - val_loss: 3.4685 - val_accuracy: 0.0360\n",
      "Epoch 2/10\n",
      "2678784/2678984 [============================>.] - ETA: 0s - loss: 3.4688 - accuracy: 0.0359\n",
      "Epoch 00002: val_loss improved from 3.46855 to 3.46763, saving model to model_LSTM_w17_Test.hdf5\n",
      "2678984/2678984 [==============================] - 439s 164us/sample - loss: 3.4688 - accuracy: 0.0359 - val_loss: 3.4676 - val_accuracy: 0.0354\n",
      "Epoch 3/10\n",
      "2678784/2678984 [============================>.] - ETA: 0s - loss: 3.4685 - accuracy: 0.0357\n",
      "Epoch 00003: val_loss did not improve from 3.46763\n",
      "2678984/2678984 [==============================] - 447s 167us/sample - loss: 3.4685 - accuracy: 0.0357 - val_loss: 3.4678 - val_accuracy: 0.0358\n",
      "Epoch 4/10\n",
      "2678784/2678984 [============================>.] - ETA: 0s - loss: 3.4684 - accuracy: 0.0359\n",
      "Epoch 00004: val_loss did not improve from 3.46763\n",
      "2678984/2678984 [==============================] - 452s 169us/sample - loss: 3.4684 - accuracy: 0.0359 - val_loss: 3.4676 - val_accuracy: 0.0360\n",
      "Epoch 5/10\n",
      "2678784/2678984 [============================>.] - ETA: 0s - loss: 3.4684 - accuracy: 0.0358\n",
      "Epoch 00005: val_loss did not improve from 3.46763\n",
      "2678984/2678984 [==============================] - 445s 166us/sample - loss: 3.4684 - accuracy: 0.0358 - val_loss: 3.4678 - val_accuracy: 0.0355\n",
      "Epoch 6/10\n",
      "2678784/2678984 [============================>.] - ETA: 0s - loss: 3.4684 - accuracy: 0.0357\n",
      "Epoch 00006: val_loss did not improve from 3.46763\n",
      "2678984/2678984 [==============================] - 446s 166us/sample - loss: 3.4684 - accuracy: 0.0357 - val_loss: 3.4678 - val_accuracy: 0.0355\n",
      "Epoch 7/10\n",
      "2678784/2678984 [============================>.] - ETA: 0s - loss: 3.4683 - accuracy: 0.0357\n",
      "Epoch 00007: val_loss improved from 3.46763 to 3.46750, saving model to model_LSTM_w17_Test.hdf5\n",
      "2678984/2678984 [==============================] - 442s 165us/sample - loss: 3.4683 - accuracy: 0.0357 - val_loss: 3.4675 - val_accuracy: 0.0360\n",
      "Epoch 8/10\n",
      "2678784/2678984 [============================>.] - ETA: 0s - loss: 3.4683 - accuracy: 0.0359\n",
      "Epoch 00008: val_loss did not improve from 3.46750\n",
      "2678984/2678984 [==============================] - 432s 161us/sample - loss: 3.4683 - accuracy: 0.0359 - val_loss: 3.4677 - val_accuracy: 0.0359\n",
      "Epoch 9/10\n",
      "2678784/2678984 [============================>.] - ETA: 0s - loss: 3.4683 - accuracy: 0.0358\n",
      "Epoch 00009: val_loss did not improve from 3.46750\n",
      "2678984/2678984 [==============================] - 434s 162us/sample - loss: 3.4683 - accuracy: 0.0358 - val_loss: 3.4676 - val_accuracy: 0.0360\n",
      "Epoch 10/10\n",
      "2678784/2678984 [============================>.] - ETA: 0s - loss: 3.4682 - accuracy: 0.0357\n",
      "Epoch 00010: val_loss did not improve from 3.46750\n",
      "2678984/2678984 [==============================] - 439s 164us/sample - loss: 3.4682 - accuracy: 0.0357 - val_loss: 3.4676 - val_accuracy: 0.0360\n"
     ]
    }
   ],
   "source": [
    "history = model.fit(sequences_matrix,Y_train,batch_size = 2048, epochs = 10,\n",
    "          validation_split = 0.2, callbacks = callbacks)"
   ]
  },
  {
   "cell_type": "code",
   "execution_count": 23,
   "metadata": {},
   "outputs": [
    {
     "name": "stdout",
     "output_type": "stream",
     "text": [
      "837183/837183 [==============================] - 207s 248us/sample - loss: 3.4675 - accuracy: 0.0358\n"
     ]
    }
   ],
   "source": [
    "X_test = [str(s) for s in X_test]\n",
    "test_sequences = tok.texts_to_sequences(X_test)\n",
    "test_sequences_matrix = sequence.pad_sequences(test_sequences,maxlen=max_len)\n",
    "accr = model.evaluate(test_sequences_matrix,Y_test)"
   ]
  },
  {
   "cell_type": "code",
   "execution_count": 51,
   "metadata": {},
   "outputs": [],
   "source": [
    "preds = model.predict(test_sequences_matrix, batch_size=2048)"
   ]
  },
  {
   "cell_type": "code",
   "execution_count": 52,
   "metadata": {},
   "outputs": [
    {
     "data": {
      "text/plain": [
       "0.00202543101797565"
      ]
     },
     "execution_count": 52,
     "metadata": {},
     "output_type": "execute_result"
    }
   ],
   "source": [
    "f1_score(Y_test.argmax(1), preds.argmax(1), average='macro')"
   ]
  },
  {
   "cell_type": "code",
   "execution_count": 53,
   "metadata": {
    "scrolled": true
   },
   "outputs": [
    {
     "name": "stdout",
     "output_type": "stream",
     "text": [
      "Test set\n",
      "  Loss: 3.468\n",
      "  Accuracy: 0.036\n"
     ]
    }
   ],
   "source": [
    "print('Test set\\n  Loss: {:0.3f}\\n  Accuracy: {:0.3f}'.format(accr[0],accr[1]))"
   ]
  }
 ],
 "metadata": {
  "kernelspec": {
   "display_name": "Python 3",
   "language": "python",
   "name": "python3"
  },
  "language_info": {
   "codemirror_mode": {
    "name": "ipython",
    "version": 3
   },
   "file_extension": ".py",
   "mimetype": "text/x-python",
   "name": "python",
   "nbconvert_exporter": "python",
   "pygments_lexer": "ipython3",
   "version": "3.7.4"
  }
 },
 "nbformat": 4,
 "nbformat_minor": 2
}
