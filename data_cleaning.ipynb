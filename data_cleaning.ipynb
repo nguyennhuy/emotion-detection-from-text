{
 "cells": [
  {
   "cell_type": "code",
   "execution_count": 13,
   "metadata": {},
   "outputs": [],
   "source": [
    "infile = \"../feed_raw_head.log\"\n",
    "outfile = \"../data_raw_2.log\""
   ]
  },
  {
   "cell_type": "code",
   "execution_count": 4,
   "metadata": {
    "scrolled": false
   },
   "outputs": [],
   "source": [
    "import json\n",
    "\n",
    "# read file\n",
    "with open('emoji2code.json', 'r') as myfile:\n",
    "    data = myfile.read()\n",
    "\n",
    "# parse file\n",
    "obj = json.loads(data)\n",
    "emoji = obj.keys()"
   ]
  },
  {
   "cell_type": "code",
   "execution_count": 5,
   "metadata": {},
   "outputs": [
    {
     "name": "stdout",
     "output_type": "stream",
     "text": [
      ":d\n",
      ":-*\n",
      "/-heart\n",
      "/-strong\n",
      ":3\n",
      "--b\n",
      ":b\n",
      ";d\n",
      ":~\n",
      ":>\n",
      "1\n"
     ]
    }
   ],
   "source": [
    "for i in range (10):\n",
    "    print (emoji[i])\n",
    "if ((\";!\") in emoji):\n",
    "    print (1)"
   ]
  },
  {
   "cell_type": "code",
   "execution_count": 4,
   "metadata": {
    "scrolled": false
   },
   "outputs": [],
   "source": [
    "with open(infile, \"r\") as f:\n",
    "    lines = f.readlines()             "
   ]
  },
  {
   "cell_type": "code",
   "execution_count": 5,
   "metadata": {
    "scrolled": true
   },
   "outputs": [
    {
     "name": "stdout",
     "output_type": "stream",
     "text": [
      "Ik xa òy pạn ơi\n",
      "\n"
     ]
    }
   ],
   "source": [
    "print(lines[113193])"
   ]
  },
  {
   "cell_type": "code",
   "execution_count": 9,
   "metadata": {},
   "outputs": [],
   "source": [
    "# with open(infile, \"w\") as f:\n",
    "#     for line in lines:\n",
    "#         for phrase in emoji:\n",
    "#             if (phrase in line):\n",
    "#                 if (phrase != line):\n",
    "#                     f.write(line)\n",
    "#                     break"
   ]
  },
  {
   "cell_type": "code",
   "execution_count": 2,
   "metadata": {},
   "outputs": [],
   "source": [
    "with open(outfile, \"w\") as f:\n",
    "    for line in lines:\n",
    "        st = line\n",
    "        get = False\n",
    "        for phrase in emoji:\n",
    "            if (phrase in st):\n",
    "                get = True\n",
    "                st = st.replace(phrase,'')\n",
    "                if (st.strip() == ''):\n",
    "                    break               \n",
    "        if (st.strip() == ''): \n",
    "            continue\n",
    "        if (get == True):\n",
    "            f.write(line)"
   ]
  }
 ],
 "metadata": {
  "kernelspec": {
   "display_name": "Python 3",
   "language": "python",
   "name": "python3"
  },
  "language_info": {
   "codemirror_mode": {
    "name": "ipython",
    "version": 3
   },
   "file_extension": ".py",
   "mimetype": "text/x-python",
   "name": "python",
   "nbconvert_exporter": "python",
   "pygments_lexer": "ipython3",
   "version": "3.6.8"
  }
 },
 "nbformat": 4,
 "nbformat_minor": 2
}
