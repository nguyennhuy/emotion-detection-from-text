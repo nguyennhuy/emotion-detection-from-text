{
 "cells": [
  {
   "cell_type": "code",
   "execution_count": 4,
   "metadata": {},
   "outputs": [],
   "source": [
    "infile = \"/data/Data/yntn/feed_raw_head_10M.log\"\n",
    "outfile = \"/data/Data/yntn/data_raw_10M.log\""
   ]
  },
  {
   "cell_type": "code",
   "execution_count": 5,
   "metadata": {
    "scrolled": false
   },
   "outputs": [],
   "source": [
    "import json\n",
    "\n",
    "# read file\n",
    "with open('/data/Data/yntn/emotion-detection-from-text/emoji2code.json', 'r') as myfile:\n",
    "    data = myfile.read()\n",
    "\n",
    "# parse file\n",
    "obj = json.loads(data)\n",
    "emoji = obj.keys()"
   ]
  },
  {
   "cell_type": "code",
   "execution_count": 6,
   "metadata": {
    "scrolled": false
   },
   "outputs": [],
   "source": [
    "with open(infile, \"r\") as f:\n",
    "    lines = f.readlines()             "
   ]
  },
  {
   "cell_type": "code",
   "execution_count": 7,
   "metadata": {},
   "outputs": [],
   "source": [
    "with open(outfile, \"w\") as f:\n",
    "    for line in lines:\n",
    "        st = line\n",
    "        get = False\n",
    "        for phrase in emoji:\n",
    "            if (phrase in st):\n",
    "                get = True\n",
    "                st = st.replace(phrase,'')\n",
    "                if (st.strip() == ''):\n",
    "                    break               \n",
    "        if (st.strip() == ''): \n",
    "            continue\n",
    "        if (get == True):\n",
    "            f.write(line)"
   ]
  },
  {
   "cell_type": "code",
   "execution_count": null,
   "metadata": {},
   "outputs": [],
   "source": []
  }
 ],
 "metadata": {
  "kernelspec": {
   "display_name": "Python 3",
   "language": "python",
   "name": "python3"
  },
  "language_info": {
   "codemirror_mode": {
    "name": "ipython",
    "version": 3
   },
   "file_extension": ".py",
   "mimetype": "text/x-python",
   "name": "python",
   "nbconvert_exporter": "python",
   "pygments_lexer": "ipython3",
   "version": "3.6.8"
  }
 },
 "nbformat": 4,
 "nbformat_minor": 2
}
