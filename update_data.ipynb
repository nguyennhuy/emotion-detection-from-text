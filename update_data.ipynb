{
 "cells": [
  {
   "cell_type": "code",
   "execution_count": 2,
   "metadata": {},
   "outputs": [
    {
     "name": "stdout",
     "output_type": "stream",
     "text": [
      "                                           text         label\n",
      "0                                      ngon K c    Suy ngẫm\n",
      "1  sao e lại nói nv...bộ c hung dữ lắm hả   Khóc lớn\n",
      "2                           Ok N cho cái hẹn đi           VUI\n",
      "3                            Thùy mị quá bạn ah          Yêu\n",
      "4                              có đâu xé, ib đi  NGẠC NHIÊN\n"
     ]
    }
   ],
   "source": [
    "import pandas as pd\n",
    "df = pd.read_csv ('/data/Data/yntn/data_labeled.csv')\n",
    "print(df.head())"
   ]
  },
  {
   "cell_type": "code",
   "execution_count": 5,
   "metadata": {},
   "outputs": [
    {
     "data": {
      "text/plain": [
       "pandas.core.frame.DataFrame"
      ]
     },
     "execution_count": 5,
     "metadata": {},
     "output_type": "execute_result"
    }
   ],
   "source": [
    "type(df.loc[df.text == 'ngon K c'])#.index] = df['text'][df[(df.text == 'ngon K c')].index].replace('c','sdfdsf')"
   ]
  },
  {
   "cell_type": "code",
   "execution_count": 5,
   "metadata": {},
   "outputs": [
    {
     "data": {
      "text/plain": [
       "0    ngon K c\n",
       "Name: text, dtype: object"
      ]
     },
     "execution_count": 5,
     "metadata": {},
     "output_type": "execute_result"
    }
   ],
   "source": [
    "df['text'][df[(df.text == 'ngon K c')].index]"
   ]
  },
  {
   "cell_type": "code",
   "execution_count": null,
   "metadata": {},
   "outputs": [],
   "source": [
    "for row in df['text']:\n",
    "    if ('...' in row):\n",
    "        df['text'][df[(df.text == row)].index] = df['text'][df[(df.text == row)].index].replace('...','')     \n",
    "    elif ('..' in row):\n",
    "        df['text'][df[(df.text == row)].index] = df['text'][df[(df.text == row)].index].replace('..','')     \n",
    "        "
   ]
  },
  {
   "cell_type": "code",
   "execution_count": null,
   "metadata": {},
   "outputs": [],
   "source": []
  },
  {
   "cell_type": "code",
   "execution_count": null,
   "metadata": {},
   "outputs": [],
   "source": [
    "\n",
    "import pandas as pd \n",
    "data = pd.read_csv('../data_out.csv') \n",
    "datadât"
   ]
  }
 ],
 "metadata": {
  "kernelspec": {
   "display_name": "Python 3",
   "language": "python",
   "name": "python3"
  },
  "language_info": {
   "codemirror_mode": {
    "name": "ipython",
    "version": 3
   },
   "file_extension": ".py",
   "mimetype": "text/x-python",
   "name": "python",
   "nbconvert_exporter": "python",
   "pygments_lexer": "ipython3",
   "version": "3.6.8"
  }
 },
 "nbformat": 4,
 "nbformat_minor": 2
}
